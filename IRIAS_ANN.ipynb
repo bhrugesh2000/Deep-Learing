{
  "nbformat": 4,
  "nbformat_minor": 0,
  "metadata": {
    "colab": {
      "name": "BHRUGESH_JADAV_21070149007_deeplearning_IRIAS.ipynb",
      "provenance": [],
      "collapsed_sections": []
    },
    "kernelspec": {
      "name": "python3",
      "display_name": "Python 3"
    },
    "language_info": {
      "name": "python"
    }
  },
  "cells": [
    {
      "cell_type": "code",
      "metadata": {
        "id": "r4pSuPli8xvt"
      },
      "source": [
        "import tensorflow as tf\n",
        "from tensorflow import keras\n",
        "import matplotlib.pyplot as plt\n",
        "from sklearn import datasets\n",
        "import pandas as pd\n"
      ],
      "execution_count": null,
      "outputs": []
    },
    {
      "cell_type": "code",
      "metadata": {
        "colab": {
          "base_uri": "https://localhost:8080/",
          "height": 203
        },
        "id": "PU-gK1lc83nT",
        "outputId": "df9d141a-9522-4481-c77a-9824791d5678"
      },
      "source": [
        "data = pd.read_csv('Iris.csv')\n",
        "X=data.iloc[:,1:5]\n",
        "y=data['Species']\n",
        "data.head()\n"
      ],
      "execution_count": null,
      "outputs": [
        {
          "output_type": "execute_result",
          "data": {
            "text/html": [
              "<div>\n",
              "<style scoped>\n",
              "    .dataframe tbody tr th:only-of-type {\n",
              "        vertical-align: middle;\n",
              "    }\n",
              "\n",
              "    .dataframe tbody tr th {\n",
              "        vertical-align: top;\n",
              "    }\n",
              "\n",
              "    .dataframe thead th {\n",
              "        text-align: right;\n",
              "    }\n",
              "</style>\n",
              "<table border=\"1\" class=\"dataframe\">\n",
              "  <thead>\n",
              "    <tr style=\"text-align: right;\">\n",
              "      <th></th>\n",
              "      <th>Id</th>\n",
              "      <th>SepalLengthCm</th>\n",
              "      <th>SepalWidthCm</th>\n",
              "      <th>PetalLengthCm</th>\n",
              "      <th>PetalWidthCm</th>\n",
              "      <th>Species</th>\n",
              "    </tr>\n",
              "  </thead>\n",
              "  <tbody>\n",
              "    <tr>\n",
              "      <th>0</th>\n",
              "      <td>1</td>\n",
              "      <td>5.1</td>\n",
              "      <td>3.5</td>\n",
              "      <td>1.4</td>\n",
              "      <td>0.2</td>\n",
              "      <td>Iris-setosa</td>\n",
              "    </tr>\n",
              "    <tr>\n",
              "      <th>1</th>\n",
              "      <td>2</td>\n",
              "      <td>4.9</td>\n",
              "      <td>3.0</td>\n",
              "      <td>1.4</td>\n",
              "      <td>0.2</td>\n",
              "      <td>Iris-setosa</td>\n",
              "    </tr>\n",
              "    <tr>\n",
              "      <th>2</th>\n",
              "      <td>3</td>\n",
              "      <td>4.7</td>\n",
              "      <td>3.2</td>\n",
              "      <td>1.3</td>\n",
              "      <td>0.2</td>\n",
              "      <td>Iris-setosa</td>\n",
              "    </tr>\n",
              "    <tr>\n",
              "      <th>3</th>\n",
              "      <td>4</td>\n",
              "      <td>4.6</td>\n",
              "      <td>3.1</td>\n",
              "      <td>1.5</td>\n",
              "      <td>0.2</td>\n",
              "      <td>Iris-setosa</td>\n",
              "    </tr>\n",
              "    <tr>\n",
              "      <th>4</th>\n",
              "      <td>5</td>\n",
              "      <td>5.0</td>\n",
              "      <td>3.6</td>\n",
              "      <td>1.4</td>\n",
              "      <td>0.2</td>\n",
              "      <td>Iris-setosa</td>\n",
              "    </tr>\n",
              "  </tbody>\n",
              "</table>\n",
              "</div>"
            ],
            "text/plain": [
              "   Id  SepalLengthCm  SepalWidthCm  PetalLengthCm  PetalWidthCm      Species\n",
              "0   1            5.1           3.5            1.4           0.2  Iris-setosa\n",
              "1   2            4.9           3.0            1.4           0.2  Iris-setosa\n",
              "2   3            4.7           3.2            1.3           0.2  Iris-setosa\n",
              "3   4            4.6           3.1            1.5           0.2  Iris-setosa\n",
              "4   5            5.0           3.6            1.4           0.2  Iris-setosa"
            ]
          },
          "metadata": {},
          "execution_count": 153
        }
      ]
    },
    {
      "cell_type": "code",
      "metadata": {
        "id": "T6eXJIcZOsVy"
      },
      "source": [
        "from sklearn.preprocessing import LabelEncoder\n",
        "encoder=LabelEncoder()\n"
      ],
      "execution_count": null,
      "outputs": []
    },
    {
      "cell_type": "code",
      "metadata": {
        "colab": {
          "base_uri": "https://localhost:8080/"
        },
        "id": "xJ8Gy3gQPQ9k",
        "outputId": "48504054-6e2f-4c3d-ec2d-7c6e7b05a971"
      },
      "source": [
        "y1=encoder.fit_transform(y)\n",
        "y=pd.get_dummies(y1).values\n",
        "y\n"
      ],
      "execution_count": null,
      "outputs": [
        {
          "output_type": "execute_result",
          "data": {
            "text/plain": [
              "array([[1, 0, 0],\n",
              "       [1, 0, 0],\n",
              "       [1, 0, 0],\n",
              "       [1, 0, 0],\n",
              "       [1, 0, 0],\n",
              "       [1, 0, 0],\n",
              "       [1, 0, 0],\n",
              "       [1, 0, 0],\n",
              "       [1, 0, 0],\n",
              "       [1, 0, 0],\n",
              "       [1, 0, 0],\n",
              "       [1, 0, 0],\n",
              "       [1, 0, 0],\n",
              "       [1, 0, 0],\n",
              "       [1, 0, 0],\n",
              "       [1, 0, 0],\n",
              "       [1, 0, 0],\n",
              "       [1, 0, 0],\n",
              "       [1, 0, 0],\n",
              "       [1, 0, 0],\n",
              "       [1, 0, 0],\n",
              "       [1, 0, 0],\n",
              "       [1, 0, 0],\n",
              "       [1, 0, 0],\n",
              "       [1, 0, 0],\n",
              "       [1, 0, 0],\n",
              "       [1, 0, 0],\n",
              "       [1, 0, 0],\n",
              "       [1, 0, 0],\n",
              "       [1, 0, 0],\n",
              "       [1, 0, 0],\n",
              "       [1, 0, 0],\n",
              "       [1, 0, 0],\n",
              "       [1, 0, 0],\n",
              "       [1, 0, 0],\n",
              "       [1, 0, 0],\n",
              "       [1, 0, 0],\n",
              "       [1, 0, 0],\n",
              "       [1, 0, 0],\n",
              "       [1, 0, 0],\n",
              "       [1, 0, 0],\n",
              "       [1, 0, 0],\n",
              "       [1, 0, 0],\n",
              "       [1, 0, 0],\n",
              "       [1, 0, 0],\n",
              "       [1, 0, 0],\n",
              "       [1, 0, 0],\n",
              "       [1, 0, 0],\n",
              "       [1, 0, 0],\n",
              "       [1, 0, 0],\n",
              "       [0, 1, 0],\n",
              "       [0, 1, 0],\n",
              "       [0, 1, 0],\n",
              "       [0, 1, 0],\n",
              "       [0, 1, 0],\n",
              "       [0, 1, 0],\n",
              "       [0, 1, 0],\n",
              "       [0, 1, 0],\n",
              "       [0, 1, 0],\n",
              "       [0, 1, 0],\n",
              "       [0, 1, 0],\n",
              "       [0, 1, 0],\n",
              "       [0, 1, 0],\n",
              "       [0, 1, 0],\n",
              "       [0, 1, 0],\n",
              "       [0, 1, 0],\n",
              "       [0, 1, 0],\n",
              "       [0, 1, 0],\n",
              "       [0, 1, 0],\n",
              "       [0, 1, 0],\n",
              "       [0, 1, 0],\n",
              "       [0, 1, 0],\n",
              "       [0, 1, 0],\n",
              "       [0, 1, 0],\n",
              "       [0, 1, 0],\n",
              "       [0, 1, 0],\n",
              "       [0, 1, 0],\n",
              "       [0, 1, 0],\n",
              "       [0, 1, 0],\n",
              "       [0, 1, 0],\n",
              "       [0, 1, 0],\n",
              "       [0, 1, 0],\n",
              "       [0, 1, 0],\n",
              "       [0, 1, 0],\n",
              "       [0, 1, 0],\n",
              "       [0, 1, 0],\n",
              "       [0, 1, 0],\n",
              "       [0, 1, 0],\n",
              "       [0, 1, 0],\n",
              "       [0, 1, 0],\n",
              "       [0, 1, 0],\n",
              "       [0, 1, 0],\n",
              "       [0, 1, 0],\n",
              "       [0, 1, 0],\n",
              "       [0, 1, 0],\n",
              "       [0, 1, 0],\n",
              "       [0, 1, 0],\n",
              "       [0, 1, 0],\n",
              "       [0, 1, 0],\n",
              "       [0, 1, 0],\n",
              "       [0, 0, 1],\n",
              "       [0, 0, 1],\n",
              "       [0, 0, 1],\n",
              "       [0, 0, 1],\n",
              "       [0, 0, 1],\n",
              "       [0, 0, 1],\n",
              "       [0, 0, 1],\n",
              "       [0, 0, 1],\n",
              "       [0, 0, 1],\n",
              "       [0, 0, 1],\n",
              "       [0, 0, 1],\n",
              "       [0, 0, 1],\n",
              "       [0, 0, 1],\n",
              "       [0, 0, 1],\n",
              "       [0, 0, 1],\n",
              "       [0, 0, 1],\n",
              "       [0, 0, 1],\n",
              "       [0, 0, 1],\n",
              "       [0, 0, 1],\n",
              "       [0, 0, 1],\n",
              "       [0, 0, 1],\n",
              "       [0, 0, 1],\n",
              "       [0, 0, 1],\n",
              "       [0, 0, 1],\n",
              "       [0, 0, 1],\n",
              "       [0, 0, 1],\n",
              "       [0, 0, 1],\n",
              "       [0, 0, 1],\n",
              "       [0, 0, 1],\n",
              "       [0, 0, 1],\n",
              "       [0, 0, 1],\n",
              "       [0, 0, 1],\n",
              "       [0, 0, 1],\n",
              "       [0, 0, 1],\n",
              "       [0, 0, 1],\n",
              "       [0, 0, 1],\n",
              "       [0, 0, 1],\n",
              "       [0, 0, 1],\n",
              "       [0, 0, 1],\n",
              "       [0, 0, 1],\n",
              "       [0, 0, 1],\n",
              "       [0, 0, 1],\n",
              "       [0, 0, 1],\n",
              "       [0, 0, 1],\n",
              "       [0, 0, 1],\n",
              "       [0, 0, 1],\n",
              "       [0, 0, 1],\n",
              "       [0, 0, 1],\n",
              "       [0, 0, 1],\n",
              "       [0, 0, 1]], dtype=uint8)"
            ]
          },
          "metadata": {},
          "execution_count": 155
        }
      ]
    },
    {
      "cell_type": "code",
      "metadata": {
        "colab": {
          "base_uri": "https://localhost:8080/"
        },
        "id": "LN2iKvYRftqv",
        "outputId": "6e4126f4-cb26-4fa8-f1fd-74f354240b53"
      },
      "source": [
        "print(X.shape)\n",
        "print(y.shape)"
      ],
      "execution_count": null,
      "outputs": [
        {
          "output_type": "stream",
          "name": "stdout",
          "text": [
            "(150, 4)\n",
            "(150, 3)\n"
          ]
        }
      ]
    },
    {
      "cell_type": "code",
      "metadata": {
        "id": "xU8v2x629Gc9"
      },
      "source": [
        "from sklearn.model_selection import train_test_split\n",
        "X_train, X_test, y_train, y_test = train_test_split(X,y, test_size=0.3,random_state=42)\n"
      ],
      "execution_count": null,
      "outputs": []
    },
    {
      "cell_type": "code",
      "metadata": {
        "colab": {
          "base_uri": "https://localhost:8080/"
        },
        "id": "v1T0QJmBdR5a",
        "outputId": "58611d48-da6a-4301-9e8c-10587232dd06"
      },
      "source": [
        "X_train.shape"
      ],
      "execution_count": null,
      "outputs": [
        {
          "output_type": "execute_result",
          "data": {
            "text/plain": [
              "(105, 4)"
            ]
          },
          "metadata": {},
          "execution_count": 161
        }
      ]
    },
    {
      "cell_type": "code",
      "metadata": {
        "id": "y7_fYSFD-0lx"
      },
      "source": [
        "#Initialize Sequential model\n",
        "model = tf.keras.models.Sequential()\n",
        "model.add(tf.keras.layers.Reshape((4,),input_shape=(4,)))\n",
        "#Normalize the data\n",
        "model.add(tf.keras.layers.BatchNormalization())"
      ],
      "execution_count": null,
      "outputs": []
    },
    {
      "cell_type": "code",
      "metadata": {
        "id": "XYAY4bGZ-_Qn"
      },
      "source": [
        "model.add(tf.keras.layers.Dense(500, activation='relu'))\n",
        "model.add(tf.keras.layers.BatchNormalization())"
      ],
      "execution_count": null,
      "outputs": []
    },
    {
      "cell_type": "code",
      "metadata": {
        "id": "cHvFxxCr_Cfw"
      },
      "source": [
        "#Add 1st hidden layer\n",
        "model.add(tf.keras.layers.Dense(200, activation='relu'))\n",
        "model.add(tf.keras.layers.BatchNormalization())"
      ],
      "execution_count": null,
      "outputs": []
    },
    {
      "cell_type": "code",
      "metadata": {
        "id": "TkAPIUVU_Gm-"
      },
      "source": [
        "#Add 2nd hidden layer\n",
        "model.add(tf.keras.layers.Dense(100, activation='relu'))\n",
        "model.add(tf.keras.layers.BatchNormalization())"
      ],
      "execution_count": null,
      "outputs": []
    },
    {
      "cell_type": "code",
      "metadata": {
        "id": "1AumRBC3_Ja0"
      },
      "source": [
        "#Add 3rd hidden layer\n",
        "model.add(tf.keras.layers.Dense(60, activation='relu'))\n",
        "model.add(tf.keras.layers.BatchNormalization())"
      ],
      "execution_count": null,
      "outputs": []
    },
    {
      "cell_type": "code",
      "metadata": {
        "id": "ChBwnDgL_LOM"
      },
      "source": [
        "#Add 4th hidden layer\n",
        "model.add(tf.keras.layers.Dense(30, activation='relu'))\n",
        "model.add(tf.keras.layers.BatchNormalization())"
      ],
      "execution_count": null,
      "outputs": []
    },
    {
      "cell_type": "code",
      "metadata": {
        "id": "SHY7VWQI_NED"
      },
      "source": [
        "#Add OUTPUT layer\n",
        "model.add(tf.keras.layers.Dense(3, activation='softmax'))"
      ],
      "execution_count": null,
      "outputs": []
    },
    {
      "cell_type": "code",
      "metadata": {
        "colab": {
          "base_uri": "https://localhost:8080/"
        },
        "id": "EP_ndCss_RYc",
        "outputId": "9f87c43b-e7e3-435e-ba6c-d07304eb066a"
      },
      "source": [
        "sgd_optimizer = tf.keras.optimizers.SGD(lr=0.01)\n",
        "\n",
        "#Compile the model\n",
        "model.compile(optimizer=sgd_optimizer, loss='categorical_crossentropy', metrics=['accuracy'])"
      ],
      "execution_count": null,
      "outputs": [
        {
          "output_type": "stream",
          "name": "stderr",
          "text": [
            "/usr/local/lib/python3.7/dist-packages/keras/optimizer_v2/gradient_descent.py:102: UserWarning: The `lr` argument is deprecated, use `learning_rate` instead.\n",
            "  super(SGD, self).__init__(name, **kwargs)\n"
          ]
        }
      ]
    },
    {
      "cell_type": "code",
      "metadata": {
        "colab": {
          "base_uri": "https://localhost:8080/"
        },
        "id": "MD2vkKVYStZC",
        "outputId": "cd4c9443-32cd-45d9-c7dc-cf0c48cf0761"
      },
      "source": [
        "X_train.shape\n",
        "model.summary()"
      ],
      "execution_count": null,
      "outputs": [
        {
          "output_type": "stream",
          "name": "stdout",
          "text": [
            "Model: \"sequential_10\"\n",
            "_________________________________________________________________\n",
            " Layer (type)                Output Shape              Param #   \n",
            "=================================================================\n",
            " reshape_10 (Reshape)        (None, 4)                 0         \n",
            "                                                                 \n",
            " batch_normalization_56 (Bat  (None, 4)                16        \n",
            " chNormalization)                                                \n",
            "                                                                 \n",
            " dense_56 (Dense)            (None, 500)               2500      \n",
            "                                                                 \n",
            " batch_normalization_57 (Bat  (None, 500)              2000      \n",
            " chNormalization)                                                \n",
            "                                                                 \n",
            " dense_57 (Dense)            (None, 200)               100200    \n",
            "                                                                 \n",
            " batch_normalization_58 (Bat  (None, 200)              800       \n",
            " chNormalization)                                                \n",
            "                                                                 \n",
            " dense_58 (Dense)            (None, 100)               20100     \n",
            "                                                                 \n",
            " batch_normalization_59 (Bat  (None, 100)              400       \n",
            " chNormalization)                                                \n",
            "                                                                 \n",
            " dense_59 (Dense)            (None, 60)                6060      \n",
            "                                                                 \n",
            " batch_normalization_60 (Bat  (None, 60)               240       \n",
            " chNormalization)                                                \n",
            "                                                                 \n",
            " dense_60 (Dense)            (None, 30)                1830      \n",
            "                                                                 \n",
            " batch_normalization_61 (Bat  (None, 30)               120       \n",
            " chNormalization)                                                \n",
            "                                                                 \n",
            " dense_61 (Dense)            (None, 3)                 93        \n",
            "                                                                 \n",
            "=================================================================\n",
            "Total params: 134,359\n",
            "Trainable params: 132,571\n",
            "Non-trainable params: 1,788\n",
            "_________________________________________________________________\n"
          ]
        }
      ]
    },
    {
      "cell_type": "code",
      "metadata": {
        "colab": {
          "base_uri": "https://localhost:8080/"
        },
        "id": "oLdH8LRi_Zqz",
        "outputId": "7b0d25ad-580a-4d09-f9ad-67679e4b208f"
      },
      "source": [
        "model.fit(X_train,y_train,          \n",
        "          validation_data=(X_test,y_test),\n",
        "          epochs=100,\n",
        "          batch_size=32)"
      ],
      "execution_count": null,
      "outputs": [
        {
          "output_type": "stream",
          "name": "stdout",
          "text": [
            "Epoch 1/100\n",
            "4/4 [==============================] - 2s 107ms/step - loss: 1.5217 - accuracy: 0.4190 - val_loss: 1.0905 - val_accuracy: 0.4222\n",
            "Epoch 2/100\n",
            "4/4 [==============================] - 0s 15ms/step - loss: 0.4633 - accuracy: 0.8286 - val_loss: 1.0980 - val_accuracy: 0.4222\n",
            "Epoch 3/100\n",
            "4/4 [==============================] - 0s 14ms/step - loss: 0.5444 - accuracy: 0.8190 - val_loss: 1.1051 - val_accuracy: 0.2000\n",
            "Epoch 4/100\n",
            "4/4 [==============================] - 0s 16ms/step - loss: 0.4558 - accuracy: 0.8571 - val_loss: 1.1167 - val_accuracy: 0.2667\n",
            "Epoch 5/100\n",
            "4/4 [==============================] - 0s 13ms/step - loss: 0.2488 - accuracy: 0.9333 - val_loss: 1.1006 - val_accuracy: 0.2889\n",
            "Epoch 6/100\n",
            "4/4 [==============================] - 0s 15ms/step - loss: 0.1947 - accuracy: 0.9524 - val_loss: 1.1078 - val_accuracy: 0.2889\n",
            "Epoch 7/100\n",
            "4/4 [==============================] - 0s 12ms/step - loss: 0.2701 - accuracy: 0.8857 - val_loss: 1.1270 - val_accuracy: 0.2889\n",
            "Epoch 8/100\n",
            "4/4 [==============================] - 0s 13ms/step - loss: 0.1838 - accuracy: 0.9619 - val_loss: 1.1285 - val_accuracy: 0.2889\n",
            "Epoch 9/100\n",
            "4/4 [==============================] - 0s 13ms/step - loss: 0.2871 - accuracy: 0.9238 - val_loss: 1.1342 - val_accuracy: 0.2889\n",
            "Epoch 10/100\n",
            "4/4 [==============================] - 0s 15ms/step - loss: 0.1242 - accuracy: 0.9714 - val_loss: 1.1447 - val_accuracy: 0.2889\n",
            "Epoch 11/100\n",
            "4/4 [==============================] - 0s 14ms/step - loss: 0.1617 - accuracy: 0.9429 - val_loss: 1.1423 - val_accuracy: 0.2889\n",
            "Epoch 12/100\n",
            "4/4 [==============================] - 0s 14ms/step - loss: 0.1582 - accuracy: 0.9619 - val_loss: 1.1534 - val_accuracy: 0.2889\n",
            "Epoch 13/100\n",
            "4/4 [==============================] - 0s 14ms/step - loss: 0.1437 - accuracy: 0.9714 - val_loss: 1.1635 - val_accuracy: 0.2889\n",
            "Epoch 14/100\n",
            "4/4 [==============================] - 0s 13ms/step - loss: 0.0678 - accuracy: 0.9905 - val_loss: 1.1746 - val_accuracy: 0.2889\n",
            "Epoch 15/100\n",
            "4/4 [==============================] - 0s 15ms/step - loss: 0.0860 - accuracy: 0.9810 - val_loss: 1.1866 - val_accuracy: 0.2889\n",
            "Epoch 16/100\n",
            "4/4 [==============================] - 0s 13ms/step - loss: 0.1274 - accuracy: 0.9619 - val_loss: 1.1915 - val_accuracy: 0.2889\n",
            "Epoch 17/100\n",
            "4/4 [==============================] - 0s 12ms/step - loss: 0.1844 - accuracy: 0.9333 - val_loss: 1.2015 - val_accuracy: 0.2889\n",
            "Epoch 18/100\n",
            "4/4 [==============================] - 0s 14ms/step - loss: 0.1000 - accuracy: 0.9810 - val_loss: 1.2261 - val_accuracy: 0.2889\n",
            "Epoch 19/100\n",
            "4/4 [==============================] - 0s 14ms/step - loss: 0.0997 - accuracy: 0.9714 - val_loss: 1.2312 - val_accuracy: 0.2889\n",
            "Epoch 20/100\n",
            "4/4 [==============================] - 0s 14ms/step - loss: 0.1679 - accuracy: 0.9619 - val_loss: 1.2369 - val_accuracy: 0.2889\n",
            "Epoch 21/100\n",
            "4/4 [==============================] - 0s 15ms/step - loss: 0.2086 - accuracy: 0.8952 - val_loss: 1.2434 - val_accuracy: 0.2889\n",
            "Epoch 22/100\n",
            "4/4 [==============================] - 0s 17ms/step - loss: 0.1003 - accuracy: 0.9619 - val_loss: 1.2656 - val_accuracy: 0.2889\n",
            "Epoch 23/100\n",
            "4/4 [==============================] - 0s 13ms/step - loss: 0.1785 - accuracy: 0.9429 - val_loss: 1.2765 - val_accuracy: 0.2889\n",
            "Epoch 24/100\n",
            "4/4 [==============================] - 0s 14ms/step - loss: 0.0930 - accuracy: 0.9714 - val_loss: 1.2869 - val_accuracy: 0.2889\n",
            "Epoch 25/100\n",
            "4/4 [==============================] - 0s 13ms/step - loss: 0.1091 - accuracy: 0.9714 - val_loss: 1.2969 - val_accuracy: 0.2889\n",
            "Epoch 26/100\n",
            "4/4 [==============================] - 0s 13ms/step - loss: 0.0781 - accuracy: 0.9810 - val_loss: 1.3039 - val_accuracy: 0.2889\n",
            "Epoch 27/100\n",
            "4/4 [==============================] - 0s 16ms/step - loss: 0.0873 - accuracy: 0.9714 - val_loss: 1.3179 - val_accuracy: 0.2889\n",
            "Epoch 28/100\n",
            "4/4 [==============================] - 0s 14ms/step - loss: 0.0798 - accuracy: 0.9905 - val_loss: 1.3339 - val_accuracy: 0.2889\n",
            "Epoch 29/100\n",
            "4/4 [==============================] - 0s 14ms/step - loss: 0.1038 - accuracy: 0.9619 - val_loss: 1.3375 - val_accuracy: 0.2889\n",
            "Epoch 30/100\n",
            "4/4 [==============================] - 0s 13ms/step - loss: 0.0695 - accuracy: 1.0000 - val_loss: 1.3425 - val_accuracy: 0.2889\n",
            "Epoch 31/100\n",
            "4/4 [==============================] - 0s 13ms/step - loss: 0.1015 - accuracy: 0.9714 - val_loss: 1.3475 - val_accuracy: 0.2889\n",
            "Epoch 32/100\n",
            "4/4 [==============================] - 0s 20ms/step - loss: 0.0577 - accuracy: 0.9905 - val_loss: 1.3548 - val_accuracy: 0.2889\n",
            "Epoch 33/100\n",
            "4/4 [==============================] - 0s 13ms/step - loss: 0.0780 - accuracy: 0.9810 - val_loss: 1.3483 - val_accuracy: 0.2889\n",
            "Epoch 34/100\n",
            "4/4 [==============================] - 0s 15ms/step - loss: 0.1596 - accuracy: 0.9524 - val_loss: 1.3450 - val_accuracy: 0.2889\n",
            "Epoch 35/100\n",
            "4/4 [==============================] - 0s 13ms/step - loss: 0.0607 - accuracy: 1.0000 - val_loss: 1.3603 - val_accuracy: 0.2889\n",
            "Epoch 36/100\n",
            "4/4 [==============================] - 0s 14ms/step - loss: 0.0686 - accuracy: 0.9905 - val_loss: 1.3615 - val_accuracy: 0.3333\n",
            "Epoch 37/100\n",
            "4/4 [==============================] - 0s 14ms/step - loss: 0.1027 - accuracy: 0.9619 - val_loss: 1.3939 - val_accuracy: 0.3111\n",
            "Epoch 38/100\n",
            "4/4 [==============================] - 0s 13ms/step - loss: 0.0721 - accuracy: 0.9905 - val_loss: 1.3835 - val_accuracy: 0.3556\n",
            "Epoch 39/100\n",
            "4/4 [==============================] - 0s 13ms/step - loss: 0.0499 - accuracy: 1.0000 - val_loss: 1.3905 - val_accuracy: 0.3556\n",
            "Epoch 40/100\n",
            "4/4 [==============================] - 0s 13ms/step - loss: 0.0606 - accuracy: 0.9714 - val_loss: 1.3780 - val_accuracy: 0.3556\n",
            "Epoch 41/100\n",
            "4/4 [==============================] - 0s 18ms/step - loss: 0.1269 - accuracy: 0.9619 - val_loss: 1.4092 - val_accuracy: 0.3556\n",
            "Epoch 42/100\n",
            "4/4 [==============================] - 0s 16ms/step - loss: 0.1114 - accuracy: 0.9905 - val_loss: 1.4100 - val_accuracy: 0.3556\n",
            "Epoch 43/100\n",
            "4/4 [==============================] - 0s 14ms/step - loss: 0.0881 - accuracy: 0.9810 - val_loss: 1.3667 - val_accuracy: 0.4444\n",
            "Epoch 44/100\n",
            "4/4 [==============================] - 0s 14ms/step - loss: 0.1439 - accuracy: 0.9524 - val_loss: 1.3606 - val_accuracy: 0.3556\n",
            "Epoch 45/100\n",
            "4/4 [==============================] - 0s 14ms/step - loss: 0.0956 - accuracy: 0.9619 - val_loss: 1.3316 - val_accuracy: 0.3556\n",
            "Epoch 46/100\n",
            "4/4 [==============================] - 0s 15ms/step - loss: 0.0961 - accuracy: 0.9714 - val_loss: 1.3176 - val_accuracy: 0.4000\n",
            "Epoch 47/100\n",
            "4/4 [==============================] - 0s 14ms/step - loss: 0.0938 - accuracy: 0.9714 - val_loss: 1.3055 - val_accuracy: 0.4000\n",
            "Epoch 48/100\n",
            "4/4 [==============================] - 0s 15ms/step - loss: 0.0922 - accuracy: 0.9714 - val_loss: 1.2992 - val_accuracy: 0.4444\n",
            "Epoch 49/100\n",
            "4/4 [==============================] - 0s 14ms/step - loss: 0.0612 - accuracy: 0.9810 - val_loss: 1.3067 - val_accuracy: 0.4667\n",
            "Epoch 50/100\n",
            "4/4 [==============================] - 0s 14ms/step - loss: 0.0908 - accuracy: 0.9619 - val_loss: 1.3058 - val_accuracy: 0.4667\n",
            "Epoch 51/100\n",
            "4/4 [==============================] - 0s 14ms/step - loss: 0.2081 - accuracy: 0.9238 - val_loss: 1.2923 - val_accuracy: 0.5111\n",
            "Epoch 52/100\n",
            "4/4 [==============================] - 0s 14ms/step - loss: 0.0864 - accuracy: 0.9714 - val_loss: 1.2715 - val_accuracy: 0.5778\n",
            "Epoch 53/100\n",
            "4/4 [==============================] - 0s 14ms/step - loss: 0.0795 - accuracy: 0.9619 - val_loss: 1.2650 - val_accuracy: 0.5778\n",
            "Epoch 54/100\n",
            "4/4 [==============================] - 0s 14ms/step - loss: 0.0630 - accuracy: 0.9905 - val_loss: 1.2656 - val_accuracy: 0.5778\n",
            "Epoch 55/100\n",
            "4/4 [==============================] - 0s 17ms/step - loss: 0.0708 - accuracy: 0.9810 - val_loss: 1.2627 - val_accuracy: 0.5778\n",
            "Epoch 56/100\n",
            "4/4 [==============================] - 0s 13ms/step - loss: 0.0643 - accuracy: 0.9905 - val_loss: 1.2373 - val_accuracy: 0.5778\n",
            "Epoch 57/100\n",
            "4/4 [==============================] - 0s 13ms/step - loss: 0.0698 - accuracy: 0.9810 - val_loss: 1.2353 - val_accuracy: 0.5778\n",
            "Epoch 58/100\n",
            "4/4 [==============================] - 0s 15ms/step - loss: 0.0690 - accuracy: 0.9810 - val_loss: 1.2311 - val_accuracy: 0.5778\n",
            "Epoch 59/100\n",
            "4/4 [==============================] - 0s 16ms/step - loss: 0.0691 - accuracy: 0.9619 - val_loss: 1.2151 - val_accuracy: 0.5556\n",
            "Epoch 60/100\n",
            "4/4 [==============================] - 0s 14ms/step - loss: 0.2764 - accuracy: 0.9429 - val_loss: 1.2243 - val_accuracy: 0.5556\n",
            "Epoch 61/100\n",
            "4/4 [==============================] - 0s 15ms/step - loss: 0.0816 - accuracy: 0.9810 - val_loss: 1.2055 - val_accuracy: 0.5556\n",
            "Epoch 62/100\n",
            "4/4 [==============================] - 0s 14ms/step - loss: 0.1217 - accuracy: 0.9333 - val_loss: 1.2036 - val_accuracy: 0.5556\n",
            "Epoch 63/100\n",
            "4/4 [==============================] - 0s 14ms/step - loss: 0.1647 - accuracy: 0.9429 - val_loss: 1.1967 - val_accuracy: 0.5111\n",
            "Epoch 64/100\n",
            "4/4 [==============================] - 0s 14ms/step - loss: 0.1955 - accuracy: 0.9048 - val_loss: 1.1508 - val_accuracy: 0.5111\n",
            "Epoch 65/100\n",
            "4/4 [==============================] - 0s 13ms/step - loss: 0.1485 - accuracy: 0.9524 - val_loss: 1.1653 - val_accuracy: 0.5556\n",
            "Epoch 66/100\n",
            "4/4 [==============================] - 0s 13ms/step - loss: 0.0699 - accuracy: 0.9810 - val_loss: 1.1325 - val_accuracy: 0.5333\n",
            "Epoch 67/100\n",
            "4/4 [==============================] - 0s 13ms/step - loss: 0.1781 - accuracy: 0.9524 - val_loss: 1.1873 - val_accuracy: 0.5778\n",
            "Epoch 68/100\n",
            "4/4 [==============================] - 0s 19ms/step - loss: 0.0838 - accuracy: 0.9810 - val_loss: 1.1828 - val_accuracy: 0.5556\n",
            "Epoch 69/100\n",
            "4/4 [==============================] - 0s 14ms/step - loss: 0.0695 - accuracy: 0.9905 - val_loss: 1.1657 - val_accuracy: 0.5556\n",
            "Epoch 70/100\n",
            "4/4 [==============================] - 0s 13ms/step - loss: 0.0542 - accuracy: 1.0000 - val_loss: 1.1545 - val_accuracy: 0.5556\n",
            "Epoch 71/100\n",
            "4/4 [==============================] - 0s 14ms/step - loss: 0.0866 - accuracy: 0.9810 - val_loss: 1.1570 - val_accuracy: 0.5556\n",
            "Epoch 72/100\n",
            "4/4 [==============================] - 0s 14ms/step - loss: 0.0757 - accuracy: 0.9810 - val_loss: 1.1545 - val_accuracy: 0.5556\n",
            "Epoch 73/100\n",
            "4/4 [==============================] - 0s 16ms/step - loss: 0.0783 - accuracy: 0.9810 - val_loss: 1.0321 - val_accuracy: 0.5333\n",
            "Epoch 74/100\n",
            "4/4 [==============================] - 0s 14ms/step - loss: 0.0816 - accuracy: 0.9810 - val_loss: 0.9880 - val_accuracy: 0.5333\n",
            "Epoch 75/100\n",
            "4/4 [==============================] - 0s 14ms/step - loss: 0.0624 - accuracy: 0.9714 - val_loss: 1.0413 - val_accuracy: 0.5111\n",
            "Epoch 76/100\n",
            "4/4 [==============================] - 0s 15ms/step - loss: 0.2314 - accuracy: 0.9143 - val_loss: 0.8894 - val_accuracy: 0.5111\n",
            "Epoch 77/100\n",
            "4/4 [==============================] - 0s 16ms/step - loss: 0.1099 - accuracy: 0.9524 - val_loss: 0.7506 - val_accuracy: 0.5556\n",
            "Epoch 78/100\n",
            "4/4 [==============================] - 0s 13ms/step - loss: 0.0941 - accuracy: 0.9714 - val_loss: 0.7570 - val_accuracy: 0.5778\n",
            "Epoch 79/100\n",
            "4/4 [==============================] - 0s 13ms/step - loss: 0.0929 - accuracy: 0.9810 - val_loss: 0.7353 - val_accuracy: 0.5333\n",
            "Epoch 80/100\n",
            "4/4 [==============================] - 0s 13ms/step - loss: 0.0720 - accuracy: 0.9714 - val_loss: 0.7194 - val_accuracy: 0.5778\n",
            "Epoch 81/100\n",
            "4/4 [==============================] - 0s 13ms/step - loss: 0.0949 - accuracy: 0.9619 - val_loss: 0.6915 - val_accuracy: 0.6000\n",
            "Epoch 82/100\n",
            "4/4 [==============================] - 0s 13ms/step - loss: 0.0590 - accuracy: 0.9905 - val_loss: 0.6686 - val_accuracy: 0.6222\n",
            "Epoch 83/100\n",
            "4/4 [==============================] - 0s 13ms/step - loss: 0.1666 - accuracy: 0.9714 - val_loss: 0.7785 - val_accuracy: 0.5778\n",
            "Epoch 84/100\n",
            "4/4 [==============================] - 0s 16ms/step - loss: 0.1463 - accuracy: 0.9333 - val_loss: 0.7987 - val_accuracy: 0.4889\n",
            "Epoch 85/100\n",
            "4/4 [==============================] - 0s 14ms/step - loss: 0.1406 - accuracy: 0.9524 - val_loss: 0.7648 - val_accuracy: 0.5111\n",
            "Epoch 86/100\n",
            "4/4 [==============================] - 0s 14ms/step - loss: 0.1369 - accuracy: 0.9619 - val_loss: 0.7383 - val_accuracy: 0.5333\n",
            "Epoch 87/100\n",
            "4/4 [==============================] - 0s 13ms/step - loss: 0.0771 - accuracy: 0.9619 - val_loss: 0.7412 - val_accuracy: 0.5333\n",
            "Epoch 88/100\n",
            "4/4 [==============================] - 0s 14ms/step - loss: 0.0737 - accuracy: 0.9810 - val_loss: 0.6922 - val_accuracy: 0.5556\n",
            "Epoch 89/100\n",
            "4/4 [==============================] - 0s 13ms/step - loss: 0.1218 - accuracy: 0.9524 - val_loss: 0.6883 - val_accuracy: 0.5556\n",
            "Epoch 90/100\n",
            "4/4 [==============================] - 0s 15ms/step - loss: 0.0815 - accuracy: 0.9810 - val_loss: 0.6141 - val_accuracy: 0.6667\n",
            "Epoch 91/100\n",
            "4/4 [==============================] - 0s 14ms/step - loss: 0.0723 - accuracy: 0.9810 - val_loss: 0.5634 - val_accuracy: 0.7111\n",
            "Epoch 92/100\n",
            "4/4 [==============================] - 0s 14ms/step - loss: 0.0618 - accuracy: 0.9905 - val_loss: 0.5328 - val_accuracy: 0.7778\n",
            "Epoch 93/100\n",
            "4/4 [==============================] - 0s 14ms/step - loss: 0.0917 - accuracy: 0.9714 - val_loss: 0.5074 - val_accuracy: 0.7778\n",
            "Epoch 94/100\n",
            "4/4 [==============================] - 0s 15ms/step - loss: 0.0657 - accuracy: 0.9905 - val_loss: 0.4392 - val_accuracy: 0.8667\n",
            "Epoch 95/100\n",
            "4/4 [==============================] - 0s 16ms/step - loss: 0.2084 - accuracy: 0.9238 - val_loss: 0.4458 - val_accuracy: 0.9333\n",
            "Epoch 96/100\n",
            "4/4 [==============================] - 0s 14ms/step - loss: 0.0819 - accuracy: 0.9810 - val_loss: 0.4202 - val_accuracy: 0.9333\n",
            "Epoch 97/100\n",
            "4/4 [==============================] - 0s 14ms/step - loss: 0.0657 - accuracy: 0.9810 - val_loss: 0.3934 - val_accuracy: 0.9333\n",
            "Epoch 98/100\n",
            "4/4 [==============================] - 0s 14ms/step - loss: 0.0704 - accuracy: 0.9810 - val_loss: 0.4103 - val_accuracy: 0.9333\n",
            "Epoch 99/100\n",
            "4/4 [==============================] - 0s 18ms/step - loss: 0.0848 - accuracy: 0.9714 - val_loss: 0.4068 - val_accuracy: 0.9556\n",
            "Epoch 100/100\n",
            "4/4 [==============================] - 0s 14ms/step - loss: 0.0936 - accuracy: 0.9714 - val_loss: 0.3599 - val_accuracy: 0.9556\n"
          ]
        },
        {
          "output_type": "execute_result",
          "data": {
            "text/plain": [
              "<keras.callbacks.History at 0x7f05a5ee1f90>"
            ]
          },
          "metadata": {},
          "execution_count": 171
        }
      ]
    },
    {
      "cell_type": "code",
      "metadata": {
        "id": "88Hlnzgw_sfx"
      },
      "source": [
        ""
      ],
      "execution_count": null,
      "outputs": []
    }
  ]
}