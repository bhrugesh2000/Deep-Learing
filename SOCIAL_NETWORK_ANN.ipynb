{
  "nbformat": 4,
  "nbformat_minor": 0,
  "metadata": {
    "colab": {
      "name": "BHRUGEHS_JADAV_21070149007_SOCIAL_NETWORK_DEEP_LEARNING.ipynb",
      "provenance": [],
      "toc_visible": true
    },
    "kernelspec": {
      "name": "python3",
      "display_name": "Python 3"
    },
    "language_info": {
      "name": "python"
    }
  },
  "cells": [
    {
      "cell_type": "code",
      "metadata": {
        "id": "NiIzArMDRHRb"
      },
      "source": [
        "import tensorflow as tf\n",
        "from tensorflow import keras\n",
        "import matplotlib.pyplot as plt\n",
        "from sklearn import datasets\n",
        "import pandas as pd"
      ],
      "execution_count": 3,
      "outputs": []
    },
    {
      "cell_type": "code",
      "metadata": {
        "colab": {
          "base_uri": "https://localhost:8080/",
          "height": 206
        },
        "id": "nw-YpbALRR3i",
        "outputId": "a314944d-6c08-445d-f54c-230855772b03"
      },
      "source": [
        "data = pd.read_csv('Social_Network_Ads.csv')\n",
        "X=data.iloc[:,2:4]\n",
        "y=data['Purchased']\n",
        "data.head()\n"
      ],
      "execution_count": 4,
      "outputs": [
        {
          "output_type": "execute_result",
          "data": {
            "text/html": [
              "<div>\n",
              "<style scoped>\n",
              "    .dataframe tbody tr th:only-of-type {\n",
              "        vertical-align: middle;\n",
              "    }\n",
              "\n",
              "    .dataframe tbody tr th {\n",
              "        vertical-align: top;\n",
              "    }\n",
              "\n",
              "    .dataframe thead th {\n",
              "        text-align: right;\n",
              "    }\n",
              "</style>\n",
              "<table border=\"1\" class=\"dataframe\">\n",
              "  <thead>\n",
              "    <tr style=\"text-align: right;\">\n",
              "      <th></th>\n",
              "      <th>User ID</th>\n",
              "      <th>Gender</th>\n",
              "      <th>Age</th>\n",
              "      <th>EstimatedSalary</th>\n",
              "      <th>Purchased</th>\n",
              "    </tr>\n",
              "  </thead>\n",
              "  <tbody>\n",
              "    <tr>\n",
              "      <th>0</th>\n",
              "      <td>15624510</td>\n",
              "      <td>Male</td>\n",
              "      <td>19</td>\n",
              "      <td>19000</td>\n",
              "      <td>0</td>\n",
              "    </tr>\n",
              "    <tr>\n",
              "      <th>1</th>\n",
              "      <td>15810944</td>\n",
              "      <td>Male</td>\n",
              "      <td>35</td>\n",
              "      <td>20000</td>\n",
              "      <td>0</td>\n",
              "    </tr>\n",
              "    <tr>\n",
              "      <th>2</th>\n",
              "      <td>15668575</td>\n",
              "      <td>Female</td>\n",
              "      <td>26</td>\n",
              "      <td>43000</td>\n",
              "      <td>0</td>\n",
              "    </tr>\n",
              "    <tr>\n",
              "      <th>3</th>\n",
              "      <td>15603246</td>\n",
              "      <td>Female</td>\n",
              "      <td>27</td>\n",
              "      <td>57000</td>\n",
              "      <td>0</td>\n",
              "    </tr>\n",
              "    <tr>\n",
              "      <th>4</th>\n",
              "      <td>15804002</td>\n",
              "      <td>Male</td>\n",
              "      <td>19</td>\n",
              "      <td>76000</td>\n",
              "      <td>0</td>\n",
              "    </tr>\n",
              "  </tbody>\n",
              "</table>\n",
              "</div>"
            ],
            "text/plain": [
              "    User ID  Gender  Age  EstimatedSalary  Purchased\n",
              "0  15624510    Male   19            19000          0\n",
              "1  15810944    Male   35            20000          0\n",
              "2  15668575  Female   26            43000          0\n",
              "3  15603246  Female   27            57000          0\n",
              "4  15804002    Male   19            76000          0"
            ]
          },
          "metadata": {},
          "execution_count": 4
        }
      ]
    },
    {
      "cell_type": "code",
      "metadata": {
        "id": "81bLSixwVN0J"
      },
      "source": [
        "data.Gender.replace(['Female','Male'],[0,1],inplace=True)"
      ],
      "execution_count": 5,
      "outputs": []
    },
    {
      "cell_type": "code",
      "metadata": {
        "colab": {
          "base_uri": "https://localhost:8080/",
          "height": 206
        },
        "id": "8o8rnYvDWHV-",
        "outputId": "16631391-52d9-4440-cd44-a4721aa268ba"
      },
      "source": [
        "data.head()"
      ],
      "execution_count": 6,
      "outputs": [
        {
          "output_type": "execute_result",
          "data": {
            "text/html": [
              "<div>\n",
              "<style scoped>\n",
              "    .dataframe tbody tr th:only-of-type {\n",
              "        vertical-align: middle;\n",
              "    }\n",
              "\n",
              "    .dataframe tbody tr th {\n",
              "        vertical-align: top;\n",
              "    }\n",
              "\n",
              "    .dataframe thead th {\n",
              "        text-align: right;\n",
              "    }\n",
              "</style>\n",
              "<table border=\"1\" class=\"dataframe\">\n",
              "  <thead>\n",
              "    <tr style=\"text-align: right;\">\n",
              "      <th></th>\n",
              "      <th>User ID</th>\n",
              "      <th>Gender</th>\n",
              "      <th>Age</th>\n",
              "      <th>EstimatedSalary</th>\n",
              "      <th>Purchased</th>\n",
              "    </tr>\n",
              "  </thead>\n",
              "  <tbody>\n",
              "    <tr>\n",
              "      <th>0</th>\n",
              "      <td>15624510</td>\n",
              "      <td>1</td>\n",
              "      <td>19</td>\n",
              "      <td>19000</td>\n",
              "      <td>0</td>\n",
              "    </tr>\n",
              "    <tr>\n",
              "      <th>1</th>\n",
              "      <td>15810944</td>\n",
              "      <td>1</td>\n",
              "      <td>35</td>\n",
              "      <td>20000</td>\n",
              "      <td>0</td>\n",
              "    </tr>\n",
              "    <tr>\n",
              "      <th>2</th>\n",
              "      <td>15668575</td>\n",
              "      <td>0</td>\n",
              "      <td>26</td>\n",
              "      <td>43000</td>\n",
              "      <td>0</td>\n",
              "    </tr>\n",
              "    <tr>\n",
              "      <th>3</th>\n",
              "      <td>15603246</td>\n",
              "      <td>0</td>\n",
              "      <td>27</td>\n",
              "      <td>57000</td>\n",
              "      <td>0</td>\n",
              "    </tr>\n",
              "    <tr>\n",
              "      <th>4</th>\n",
              "      <td>15804002</td>\n",
              "      <td>1</td>\n",
              "      <td>19</td>\n",
              "      <td>76000</td>\n",
              "      <td>0</td>\n",
              "    </tr>\n",
              "  </tbody>\n",
              "</table>\n",
              "</div>"
            ],
            "text/plain": [
              "    User ID  Gender  Age  EstimatedSalary  Purchased\n",
              "0  15624510       1   19            19000          0\n",
              "1  15810944       1   35            20000          0\n",
              "2  15668575       0   26            43000          0\n",
              "3  15603246       0   27            57000          0\n",
              "4  15804002       1   19            76000          0"
            ]
          },
          "metadata": {},
          "execution_count": 6
        }
      ]
    },
    {
      "cell_type": "code",
      "metadata": {
        "id": "y7TkM4KfRYQZ"
      },
      "source": [
        "from sklearn.model_selection import train_test_split\n",
        "X_train, X_test, y_train, y_test = train_test_split(X,y, test_size=0.2,random_state=1)"
      ],
      "execution_count": 7,
      "outputs": []
    },
    {
      "cell_type": "code",
      "metadata": {
        "id": "0KNU2q2iR1nb"
      },
      "source": [
        "model = tf.keras.models.Sequential()\n",
        "model.add(tf.keras.layers.Reshape((2,),input_shape=(2,)))\n",
        "#Normalize the data\n",
        "model.add(tf.keras.layers.BatchNormalization())"
      ],
      "execution_count": 8,
      "outputs": []
    },
    {
      "cell_type": "code",
      "metadata": {
        "id": "CmCLXo3bSFCf"
      },
      "source": [
        "model.add(tf.keras.layers.Dense(500, activation='relu'))\n",
        "model.add(tf.keras.layers.BatchNormalization())"
      ],
      "execution_count": 9,
      "outputs": []
    },
    {
      "cell_type": "code",
      "metadata": {
        "id": "Xxft-AicSNPX"
      },
      "source": [
        "#Add 1st hidden layer\n",
        "model.add(tf.keras.layers.Dense(200, activation='relu'))\n",
        "model.add(tf.keras.layers.BatchNormalization())"
      ],
      "execution_count": 10,
      "outputs": []
    },
    {
      "cell_type": "code",
      "metadata": {
        "id": "lBnTEIYVSRlD"
      },
      "source": [
        "#Add 2nd hidden layer\n",
        "model.add(tf.keras.layers.Dense(100, activation='relu'))\n",
        "model.add(tf.keras.layers.BatchNormalization())"
      ],
      "execution_count": 11,
      "outputs": []
    },
    {
      "cell_type": "code",
      "metadata": {
        "id": "ujkqHa8FSTwf"
      },
      "source": [
        "#Add 3rd hidden layer\n",
        "model.add(tf.keras.layers.Dense(60, activation='relu'))\n",
        "model.add(tf.keras.layers.BatchNormalization())"
      ],
      "execution_count": 12,
      "outputs": []
    },
    {
      "cell_type": "code",
      "metadata": {
        "id": "1XhChN_4TEeW"
      },
      "source": [
        "#Add 4th hidden layer\n",
        "model.add(tf.keras.layers.Dense(30, activation='relu'))\n",
        "model.add(tf.keras.layers.BatchNormalization())"
      ],
      "execution_count": 13,
      "outputs": []
    },
    {
      "cell_type": "code",
      "metadata": {
        "id": "Xo3bJkrhSVad"
      },
      "source": [
        "#Add OUTPUT layer\n",
        "model.add(tf.keras.layers.Dense(1, activation='sigmoid'))"
      ],
      "execution_count": 14,
      "outputs": []
    },
    {
      "cell_type": "code",
      "metadata": {
        "colab": {
          "base_uri": "https://localhost:8080/"
        },
        "id": "SD6ikGlNSmAw",
        "outputId": "9b32f16d-fd58-4c6c-d8e5-c54946a69a47"
      },
      "source": [
        "sgd_optimizer = tf.keras.optimizers.SGD(lr=0.01)\n",
        "\n",
        "#Compile the model\n",
        "model.compile(optimizer=sgd_optimizer, loss='binary_crossentropy', metrics=['accuracy'])"
      ],
      "execution_count": 15,
      "outputs": [
        {
          "output_type": "stream",
          "name": "stderr",
          "text": [
            "/usr/local/lib/python3.7/dist-packages/keras/optimizer_v2/gradient_descent.py:102: UserWarning: The `lr` argument is deprecated, use `learning_rate` instead.\n",
            "  super(SGD, self).__init__(name, **kwargs)\n"
          ]
        }
      ]
    },
    {
      "cell_type": "code",
      "metadata": {
        "colab": {
          "base_uri": "https://localhost:8080/"
        },
        "id": "zQrdD1SJSpEp",
        "outputId": "4182d15f-d023-4344-b978-2137f6b25a1c"
      },
      "source": [
        "model.fit(X_train,y_train,          \n",
        "          validation_data=(X_test,y_test),\n",
        "          epochs=100,\n",
        "          batch_size=32)"
      ],
      "execution_count": 16,
      "outputs": [
        {
          "output_type": "stream",
          "name": "stdout",
          "text": [
            "Epoch 1/100\n",
            "10/10 [==============================] - 2s 39ms/step - loss: 0.4736 - accuracy: 0.8000 - val_loss: 0.7007 - val_accuracy: 0.4000\n",
            "Epoch 2/100\n",
            "10/10 [==============================] - 0s 7ms/step - loss: 0.3131 - accuracy: 0.9000 - val_loss: 0.6972 - val_accuracy: 0.4000\n",
            "Epoch 3/100\n",
            "10/10 [==============================] - 0s 7ms/step - loss: 0.3315 - accuracy: 0.8813 - val_loss: 0.6966 - val_accuracy: 0.4000\n",
            "Epoch 4/100\n",
            "10/10 [==============================] - 0s 8ms/step - loss: 0.2730 - accuracy: 0.9187 - val_loss: 0.7001 - val_accuracy: 0.4000\n",
            "Epoch 5/100\n",
            "10/10 [==============================] - 0s 7ms/step - loss: 0.3126 - accuracy: 0.8906 - val_loss: 0.7048 - val_accuracy: 0.4125\n",
            "Epoch 6/100\n",
            "10/10 [==============================] - 0s 7ms/step - loss: 0.3357 - accuracy: 0.8969 - val_loss: 0.7083 - val_accuracy: 0.4375\n",
            "Epoch 7/100\n",
            "10/10 [==============================] - 0s 7ms/step - loss: 0.2661 - accuracy: 0.9000 - val_loss: 0.7037 - val_accuracy: 0.4750\n",
            "Epoch 8/100\n",
            "10/10 [==============================] - 0s 8ms/step - loss: 0.2843 - accuracy: 0.9125 - val_loss: 0.6914 - val_accuracy: 0.5375\n",
            "Epoch 9/100\n",
            "10/10 [==============================] - 0s 10ms/step - loss: 0.2846 - accuracy: 0.9250 - val_loss: 0.6720 - val_accuracy: 0.5500\n",
            "Epoch 10/100\n",
            "10/10 [==============================] - 0s 9ms/step - loss: 0.2646 - accuracy: 0.9094 - val_loss: 0.6382 - val_accuracy: 0.6250\n",
            "Epoch 11/100\n",
            "10/10 [==============================] - 0s 8ms/step - loss: 0.2852 - accuracy: 0.9062 - val_loss: 0.6169 - val_accuracy: 0.7250\n",
            "Epoch 12/100\n",
            "10/10 [==============================] - 0s 9ms/step - loss: 0.2627 - accuracy: 0.9187 - val_loss: 0.5909 - val_accuracy: 0.8000\n",
            "Epoch 13/100\n",
            "10/10 [==============================] - 0s 7ms/step - loss: 0.2462 - accuracy: 0.9344 - val_loss: 0.5692 - val_accuracy: 0.8250\n",
            "Epoch 14/100\n",
            "10/10 [==============================] - 0s 9ms/step - loss: 0.2954 - accuracy: 0.8813 - val_loss: 0.5465 - val_accuracy: 0.8500\n",
            "Epoch 15/100\n",
            "10/10 [==============================] - 0s 9ms/step - loss: 0.2678 - accuracy: 0.9031 - val_loss: 0.5266 - val_accuracy: 0.8500\n",
            "Epoch 16/100\n",
            "10/10 [==============================] - 0s 8ms/step - loss: 0.2420 - accuracy: 0.9219 - val_loss: 0.5091 - val_accuracy: 0.8125\n",
            "Epoch 17/100\n",
            "10/10 [==============================] - 0s 7ms/step - loss: 0.2500 - accuracy: 0.9219 - val_loss: 0.4974 - val_accuracy: 0.8125\n",
            "Epoch 18/100\n",
            "10/10 [==============================] - 0s 9ms/step - loss: 0.2746 - accuracy: 0.9187 - val_loss: 0.4873 - val_accuracy: 0.7875\n",
            "Epoch 19/100\n",
            "10/10 [==============================] - 0s 8ms/step - loss: 0.2319 - accuracy: 0.9219 - val_loss: 0.4760 - val_accuracy: 0.7875\n",
            "Epoch 20/100\n",
            "10/10 [==============================] - 0s 9ms/step - loss: 0.2668 - accuracy: 0.9062 - val_loss: 0.4671 - val_accuracy: 0.8250\n",
            "Epoch 21/100\n",
            "10/10 [==============================] - 0s 9ms/step - loss: 0.2331 - accuracy: 0.9250 - val_loss: 0.4577 - val_accuracy: 0.8250\n",
            "Epoch 22/100\n",
            "10/10 [==============================] - 0s 7ms/step - loss: 0.2324 - accuracy: 0.9219 - val_loss: 0.4556 - val_accuracy: 0.8000\n",
            "Epoch 23/100\n",
            "10/10 [==============================] - 0s 9ms/step - loss: 0.2378 - accuracy: 0.9156 - val_loss: 0.4532 - val_accuracy: 0.8125\n",
            "Epoch 24/100\n",
            "10/10 [==============================] - 0s 7ms/step - loss: 0.2480 - accuracy: 0.9031 - val_loss: 0.4537 - val_accuracy: 0.8125\n",
            "Epoch 25/100\n",
            "10/10 [==============================] - 0s 7ms/step - loss: 0.2603 - accuracy: 0.9156 - val_loss: 0.4448 - val_accuracy: 0.8125\n",
            "Epoch 26/100\n",
            "10/10 [==============================] - 0s 11ms/step - loss: 0.2717 - accuracy: 0.9125 - val_loss: 0.4413 - val_accuracy: 0.8125\n",
            "Epoch 27/100\n",
            "10/10 [==============================] - 0s 8ms/step - loss: 0.3188 - accuracy: 0.8781 - val_loss: 0.4400 - val_accuracy: 0.8125\n",
            "Epoch 28/100\n",
            "10/10 [==============================] - 0s 7ms/step - loss: 0.2341 - accuracy: 0.9094 - val_loss: 0.4477 - val_accuracy: 0.8000\n",
            "Epoch 29/100\n",
            "10/10 [==============================] - 0s 7ms/step - loss: 0.2106 - accuracy: 0.9312 - val_loss: 0.4449 - val_accuracy: 0.8000\n",
            "Epoch 30/100\n",
            "10/10 [==============================] - 0s 9ms/step - loss: 0.2492 - accuracy: 0.9312 - val_loss: 0.4383 - val_accuracy: 0.8000\n",
            "Epoch 31/100\n",
            "10/10 [==============================] - 0s 7ms/step - loss: 0.2476 - accuracy: 0.9219 - val_loss: 0.4322 - val_accuracy: 0.8125\n",
            "Epoch 32/100\n",
            "10/10 [==============================] - 0s 7ms/step - loss: 0.2865 - accuracy: 0.8938 - val_loss: 0.4293 - val_accuracy: 0.8000\n",
            "Epoch 33/100\n",
            "10/10 [==============================] - 0s 10ms/step - loss: 0.2703 - accuracy: 0.8969 - val_loss: 0.4210 - val_accuracy: 0.8125\n",
            "Epoch 34/100\n",
            "10/10 [==============================] - 0s 8ms/step - loss: 0.2738 - accuracy: 0.8906 - val_loss: 0.4122 - val_accuracy: 0.8125\n",
            "Epoch 35/100\n",
            "10/10 [==============================] - 0s 9ms/step - loss: 0.2494 - accuracy: 0.9219 - val_loss: 0.4140 - val_accuracy: 0.8125\n",
            "Epoch 36/100\n",
            "10/10 [==============================] - 0s 7ms/step - loss: 0.2209 - accuracy: 0.9125 - val_loss: 0.4151 - val_accuracy: 0.8125\n",
            "Epoch 37/100\n",
            "10/10 [==============================] - 0s 9ms/step - loss: 0.2081 - accuracy: 0.9250 - val_loss: 0.4075 - val_accuracy: 0.8250\n",
            "Epoch 38/100\n",
            "10/10 [==============================] - 0s 9ms/step - loss: 0.2148 - accuracy: 0.9250 - val_loss: 0.4164 - val_accuracy: 0.8125\n",
            "Epoch 39/100\n",
            "10/10 [==============================] - 0s 7ms/step - loss: 0.2448 - accuracy: 0.9219 - val_loss: 0.4028 - val_accuracy: 0.8250\n",
            "Epoch 40/100\n",
            "10/10 [==============================] - 0s 8ms/step - loss: 0.2810 - accuracy: 0.9062 - val_loss: 0.3983 - val_accuracy: 0.8375\n",
            "Epoch 41/100\n",
            "10/10 [==============================] - 0s 7ms/step - loss: 0.2711 - accuracy: 0.8938 - val_loss: 0.3832 - val_accuracy: 0.8250\n",
            "Epoch 42/100\n",
            "10/10 [==============================] - 0s 7ms/step - loss: 0.2492 - accuracy: 0.9031 - val_loss: 0.3809 - val_accuracy: 0.8375\n",
            "Epoch 43/100\n",
            "10/10 [==============================] - 0s 7ms/step - loss: 0.2236 - accuracy: 0.9250 - val_loss: 0.3777 - val_accuracy: 0.8375\n",
            "Epoch 44/100\n",
            "10/10 [==============================] - 0s 7ms/step - loss: 0.2214 - accuracy: 0.9187 - val_loss: 0.3963 - val_accuracy: 0.8250\n",
            "Epoch 45/100\n",
            "10/10 [==============================] - 0s 9ms/step - loss: 0.2466 - accuracy: 0.9094 - val_loss: 0.4038 - val_accuracy: 0.8250\n",
            "Epoch 46/100\n",
            "10/10 [==============================] - 0s 9ms/step - loss: 0.2482 - accuracy: 0.9125 - val_loss: 0.3878 - val_accuracy: 0.8875\n",
            "Epoch 47/100\n",
            "10/10 [==============================] - 0s 7ms/step - loss: 0.2391 - accuracy: 0.9062 - val_loss: 0.3902 - val_accuracy: 0.8750\n",
            "Epoch 48/100\n",
            "10/10 [==============================] - 0s 7ms/step - loss: 0.2609 - accuracy: 0.8906 - val_loss: 0.3876 - val_accuracy: 0.8750\n",
            "Epoch 49/100\n",
            "10/10 [==============================] - 0s 7ms/step - loss: 0.2580 - accuracy: 0.9031 - val_loss: 0.3809 - val_accuracy: 0.8750\n",
            "Epoch 50/100\n",
            "10/10 [==============================] - 0s 9ms/step - loss: 0.2404 - accuracy: 0.9187 - val_loss: 0.3833 - val_accuracy: 0.8625\n",
            "Epoch 51/100\n",
            "10/10 [==============================] - 0s 8ms/step - loss: 0.2415 - accuracy: 0.9000 - val_loss: 0.3859 - val_accuracy: 0.8875\n",
            "Epoch 52/100\n",
            "10/10 [==============================] - 0s 9ms/step - loss: 0.2365 - accuracy: 0.9187 - val_loss: 0.3907 - val_accuracy: 0.8750\n",
            "Epoch 53/100\n",
            "10/10 [==============================] - 0s 7ms/step - loss: 0.2998 - accuracy: 0.8875 - val_loss: 0.3829 - val_accuracy: 0.8625\n",
            "Epoch 54/100\n",
            "10/10 [==============================] - 0s 7ms/step - loss: 0.2331 - accuracy: 0.9187 - val_loss: 0.3858 - val_accuracy: 0.8625\n",
            "Epoch 55/100\n",
            "10/10 [==============================] - 0s 8ms/step - loss: 0.2628 - accuracy: 0.9156 - val_loss: 0.3818 - val_accuracy: 0.8625\n",
            "Epoch 56/100\n",
            "10/10 [==============================] - 0s 8ms/step - loss: 0.2310 - accuracy: 0.9062 - val_loss: 0.3834 - val_accuracy: 0.8750\n",
            "Epoch 57/100\n",
            "10/10 [==============================] - 0s 7ms/step - loss: 0.2349 - accuracy: 0.9125 - val_loss: 0.3799 - val_accuracy: 0.8750\n",
            "Epoch 58/100\n",
            "10/10 [==============================] - 0s 9ms/step - loss: 0.2245 - accuracy: 0.9156 - val_loss: 0.3834 - val_accuracy: 0.8500\n",
            "Epoch 59/100\n",
            "10/10 [==============================] - 0s 7ms/step - loss: 0.2248 - accuracy: 0.9125 - val_loss: 0.3670 - val_accuracy: 0.8750\n",
            "Epoch 60/100\n",
            "10/10 [==============================] - 0s 7ms/step - loss: 0.2475 - accuracy: 0.8906 - val_loss: 0.3688 - val_accuracy: 0.8750\n",
            "Epoch 61/100\n",
            "10/10 [==============================] - 0s 7ms/step - loss: 0.2340 - accuracy: 0.9062 - val_loss: 0.3731 - val_accuracy: 0.8750\n",
            "Epoch 62/100\n",
            "10/10 [==============================] - 0s 8ms/step - loss: 0.2291 - accuracy: 0.9094 - val_loss: 0.3662 - val_accuracy: 0.8875\n",
            "Epoch 63/100\n",
            "10/10 [==============================] - 0s 9ms/step - loss: 0.2154 - accuracy: 0.9281 - val_loss: 0.3813 - val_accuracy: 0.8750\n",
            "Epoch 64/100\n",
            "10/10 [==============================] - 0s 9ms/step - loss: 0.2075 - accuracy: 0.9250 - val_loss: 0.3937 - val_accuracy: 0.8625\n",
            "Epoch 65/100\n",
            "10/10 [==============================] - 0s 9ms/step - loss: 0.2134 - accuracy: 0.9250 - val_loss: 0.3982 - val_accuracy: 0.8625\n",
            "Epoch 66/100\n",
            "10/10 [==============================] - 0s 9ms/step - loss: 0.2791 - accuracy: 0.9094 - val_loss: 0.4190 - val_accuracy: 0.8625\n",
            "Epoch 67/100\n",
            "10/10 [==============================] - 0s 7ms/step - loss: 0.2493 - accuracy: 0.9094 - val_loss: 0.4062 - val_accuracy: 0.8875\n",
            "Epoch 68/100\n",
            "10/10 [==============================] - 0s 7ms/step - loss: 0.2210 - accuracy: 0.9125 - val_loss: 0.4089 - val_accuracy: 0.8625\n",
            "Epoch 69/100\n",
            "10/10 [==============================] - 0s 7ms/step - loss: 0.2382 - accuracy: 0.9187 - val_loss: 0.3943 - val_accuracy: 0.8625\n",
            "Epoch 70/100\n",
            "10/10 [==============================] - 0s 9ms/step - loss: 0.2498 - accuracy: 0.8969 - val_loss: 0.3813 - val_accuracy: 0.8625\n",
            "Epoch 71/100\n",
            "10/10 [==============================] - 0s 7ms/step - loss: 0.2383 - accuracy: 0.9125 - val_loss: 0.3795 - val_accuracy: 0.8625\n",
            "Epoch 72/100\n",
            "10/10 [==============================] - 0s 7ms/step - loss: 0.2245 - accuracy: 0.9094 - val_loss: 0.3871 - val_accuracy: 0.8625\n",
            "Epoch 73/100\n",
            "10/10 [==============================] - 0s 7ms/step - loss: 0.2304 - accuracy: 0.9125 - val_loss: 0.3738 - val_accuracy: 0.8750\n",
            "Epoch 74/100\n",
            "10/10 [==============================] - 0s 7ms/step - loss: 0.2623 - accuracy: 0.9000 - val_loss: 0.3975 - val_accuracy: 0.8625\n",
            "Epoch 75/100\n",
            "10/10 [==============================] - 0s 9ms/step - loss: 0.2429 - accuracy: 0.9156 - val_loss: 0.3884 - val_accuracy: 0.8625\n",
            "Epoch 76/100\n",
            "10/10 [==============================] - 0s 7ms/step - loss: 0.2293 - accuracy: 0.9062 - val_loss: 0.4049 - val_accuracy: 0.8625\n",
            "Epoch 77/100\n",
            "10/10 [==============================] - 0s 7ms/step - loss: 0.2578 - accuracy: 0.9062 - val_loss: 0.4196 - val_accuracy: 0.8625\n",
            "Epoch 78/100\n",
            "10/10 [==============================] - 0s 9ms/step - loss: 0.1918 - accuracy: 0.9344 - val_loss: 0.4193 - val_accuracy: 0.8625\n",
            "Epoch 79/100\n",
            "10/10 [==============================] - 0s 9ms/step - loss: 0.2622 - accuracy: 0.9125 - val_loss: 0.4238 - val_accuracy: 0.8625\n",
            "Epoch 80/100\n",
            "10/10 [==============================] - 0s 7ms/step - loss: 0.2360 - accuracy: 0.9125 - val_loss: 0.4252 - val_accuracy: 0.8750\n",
            "Epoch 81/100\n",
            "10/10 [==============================] - 0s 8ms/step - loss: 0.2248 - accuracy: 0.8969 - val_loss: 0.4183 - val_accuracy: 0.8625\n",
            "Epoch 82/100\n",
            "10/10 [==============================] - 0s 9ms/step - loss: 0.2252 - accuracy: 0.9062 - val_loss: 0.4176 - val_accuracy: 0.8625\n",
            "Epoch 83/100\n",
            "10/10 [==============================] - 0s 7ms/step - loss: 0.2106 - accuracy: 0.9219 - val_loss: 0.4145 - val_accuracy: 0.8625\n",
            "Epoch 84/100\n",
            "10/10 [==============================] - 0s 7ms/step - loss: 0.2321 - accuracy: 0.9187 - val_loss: 0.4193 - val_accuracy: 0.8750\n",
            "Epoch 85/100\n",
            "10/10 [==============================] - 0s 9ms/step - loss: 0.2311 - accuracy: 0.8938 - val_loss: 0.4124 - val_accuracy: 0.8750\n",
            "Epoch 86/100\n",
            "10/10 [==============================] - 0s 7ms/step - loss: 0.2429 - accuracy: 0.8969 - val_loss: 0.4130 - val_accuracy: 0.8750\n",
            "Epoch 87/100\n",
            "10/10 [==============================] - 0s 9ms/step - loss: 0.2319 - accuracy: 0.9031 - val_loss: 0.3999 - val_accuracy: 0.8750\n",
            "Epoch 88/100\n",
            "10/10 [==============================] - 0s 7ms/step - loss: 0.2404 - accuracy: 0.9031 - val_loss: 0.4053 - val_accuracy: 0.8750\n",
            "Epoch 89/100\n",
            "10/10 [==============================] - 0s 8ms/step - loss: 0.2190 - accuracy: 0.9281 - val_loss: 0.4247 - val_accuracy: 0.8625\n",
            "Epoch 90/100\n",
            "10/10 [==============================] - 0s 7ms/step - loss: 0.2562 - accuracy: 0.8938 - val_loss: 0.4158 - val_accuracy: 0.8625\n",
            "Epoch 91/100\n",
            "10/10 [==============================] - 0s 9ms/step - loss: 0.1914 - accuracy: 0.9312 - val_loss: 0.4236 - val_accuracy: 0.8750\n",
            "Epoch 92/100\n",
            "10/10 [==============================] - 0s 7ms/step - loss: 0.2860 - accuracy: 0.8844 - val_loss: 0.4062 - val_accuracy: 0.8625\n",
            "Epoch 93/100\n",
            "10/10 [==============================] - 0s 7ms/step - loss: 0.1957 - accuracy: 0.9250 - val_loss: 0.4162 - val_accuracy: 0.8625\n",
            "Epoch 94/100\n",
            "10/10 [==============================] - 0s 9ms/step - loss: 0.2196 - accuracy: 0.9031 - val_loss: 0.4347 - val_accuracy: 0.8625\n",
            "Epoch 95/100\n",
            "10/10 [==============================] - 0s 10ms/step - loss: 0.2139 - accuracy: 0.9281 - val_loss: 0.4360 - val_accuracy: 0.8625\n",
            "Epoch 96/100\n",
            "10/10 [==============================] - 0s 9ms/step - loss: 0.2186 - accuracy: 0.9187 - val_loss: 0.4248 - val_accuracy: 0.8625\n",
            "Epoch 97/100\n",
            "10/10 [==============================] - 0s 7ms/step - loss: 0.2164 - accuracy: 0.9062 - val_loss: 0.4040 - val_accuracy: 0.8625\n",
            "Epoch 98/100\n",
            "10/10 [==============================] - 0s 9ms/step - loss: 0.2048 - accuracy: 0.9187 - val_loss: 0.3999 - val_accuracy: 0.8625\n",
            "Epoch 99/100\n",
            "10/10 [==============================] - 0s 10ms/step - loss: 0.2217 - accuracy: 0.9156 - val_loss: 0.4094 - val_accuracy: 0.8625\n",
            "Epoch 100/100\n",
            "10/10 [==============================] - 0s 7ms/step - loss: 0.2191 - accuracy: 0.9094 - val_loss: 0.4133 - val_accuracy: 0.8625\n"
          ]
        },
        {
          "output_type": "execute_result",
          "data": {
            "text/plain": [
              "<keras.callbacks.History at 0x7ff968411290>"
            ]
          },
          "metadata": {},
          "execution_count": 16
        }
      ]
    },
    {
      "cell_type": "code",
      "metadata": {
        "id": "uGIy6ORySsSh",
        "colab": {
          "base_uri": "https://localhost:8080/"
        },
        "outputId": "e844e182-1fc5-4ab6-a0f9-1133358292f6"
      },
      "source": [
        "model.summary()"
      ],
      "execution_count": 20,
      "outputs": [
        {
          "output_type": "stream",
          "name": "stdout",
          "text": [
            "Model: \"sequential\"\n",
            "_________________________________________________________________\n",
            " Layer (type)                Output Shape              Param #   \n",
            "=================================================================\n",
            " reshape (Reshape)           (None, 2)                 0         \n",
            "                                                                 \n",
            " batch_normalization (BatchN  (None, 2)                8         \n",
            " ormalization)                                                   \n",
            "                                                                 \n",
            " dense (Dense)               (None, 500)               1500      \n",
            "                                                                 \n",
            " batch_normalization_1 (Batc  (None, 500)              2000      \n",
            " hNormalization)                                                 \n",
            "                                                                 \n",
            " dense_1 (Dense)             (None, 200)               100200    \n",
            "                                                                 \n",
            " batch_normalization_2 (Batc  (None, 200)              800       \n",
            " hNormalization)                                                 \n",
            "                                                                 \n",
            " dense_2 (Dense)             (None, 100)               20100     \n",
            "                                                                 \n",
            " batch_normalization_3 (Batc  (None, 100)              400       \n",
            " hNormalization)                                                 \n",
            "                                                                 \n",
            " dense_3 (Dense)             (None, 60)                6060      \n",
            "                                                                 \n",
            " batch_normalization_4 (Batc  (None, 60)               240       \n",
            " hNormalization)                                                 \n",
            "                                                                 \n",
            " dense_4 (Dense)             (None, 30)                1830      \n",
            "                                                                 \n",
            " batch_normalization_5 (Batc  (None, 30)               120       \n",
            " hNormalization)                                                 \n",
            "                                                                 \n",
            " dense_5 (Dense)             (None, 1)                 31        \n",
            "                                                                 \n",
            "=================================================================\n",
            "Total params: 133,289\n",
            "Trainable params: 131,505\n",
            "Non-trainable params: 1,784\n",
            "_________________________________________________________________\n"
          ]
        }
      ]
    },
    {
      "cell_type": "code",
      "metadata": {
        "colab": {
          "base_uri": "https://localhost:8080/",
          "height": 1000
        },
        "id": "A3TeY4vLco0E",
        "outputId": "70b97fa5-411b-4a31-a311-c4279b028edb"
      },
      "source": [
        "tf.keras.utils.plot_model(model)"
      ],
      "execution_count": 21,
      "outputs": [
        {
          "output_type": "execute_result",
          "data": {
            "image/png": "[encoded data removed]",
            "text/plain": [
              "<IPython.core.display.Image object>"
            ]
          },
          "metadata": {},
          "execution_count": 21
        }
      ]
    },
    {
      "cell_type": "code",
      "metadata": {
        "id": "ng3msDQwdpJe"
      },
      "source": [
        ""
      ],
      "execution_count": null,
      "outputs": []
    }
  ]
}