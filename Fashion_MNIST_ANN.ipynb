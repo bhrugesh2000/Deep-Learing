{
  "nbformat": 4,
  "nbformat_minor": 0,
  "metadata": {
    "colab": {
      "name": "BHRUGESH_JADAV_21070149007_fashion_mnist_dataset_DL.ipynb",
      "provenance": []
    },
    "kernelspec": {
      "name": "python3",
      "display_name": "Python 3"
    },
    "language_info": {
      "name": "python"
    }
  },
  "cells": [
    {
      "cell_type": "code",
      "metadata": {
        "id": "f4_LJWfOgDiX"
      },
      "source": [
        "import pandas as pd\n",
        "import numpy as np \n",
        "import tensorflow as tf\n",
        "from tensorflow import keras\n",
        "import matplotlib.pyplot as plt\n"
      ],
      "execution_count": 1,
      "outputs": []
    },
    {
      "cell_type": "code",
      "metadata": {
        "id": "qyhd3NFMgRqq"
      },
      "source": [
        "(x_train,y_train),(x_test,y_test)=keras.datasets.fashion_mnist.load_data()"
      ],
      "execution_count": 4,
      "outputs": []
    },
    {
      "cell_type": "code",
      "metadata": {
        "colab": {
          "base_uri": "https://localhost:8080/",
          "height": 282
        },
        "id": "a95M8AylhOcP",
        "outputId": "b3e518ca-725d-4a6a-b809-a77a342c7174"
      },
      "source": [
        "plt.imshow(x_train[1])"
      ],
      "execution_count": 5,
      "outputs": [
        {
          "output_type": "execute_result",
          "data": {
            "text/plain": [
              "<matplotlib.image.AxesImage at 0x7fb20e2c5a50>"
            ]
          },
          "metadata": {},
          "execution_count": 5
        },
        {
          "output_type": "display_data",
          "data": {
            "image/png": "[encoded data removed]",
            "text/plain": [
              "<Figure size 432x288 with 1 Axes>"
            ]
          },
          "metadata": {
            "needs_background": "light"
          }
        }
      ]
    },
    {
      "cell_type": "code",
      "metadata": {
        "colab": {
          "base_uri": "https://localhost:8080/"
        },
        "id": "BuMsJWLLhnZ5",
        "outputId": "0fd57156-eb21-4666-c95a-65ee83b40989"
      },
      "source": [
        "x_train.shape"
      ],
      "execution_count": 6,
      "outputs": [
        {
          "output_type": "execute_result",
          "data": {
            "text/plain": [
              "(60000, 28, 28)"
            ]
          },
          "metadata": {},
          "execution_count": 6
        }
      ]
    },
    {
      "cell_type": "code",
      "metadata": {
        "id": "27Hurqn5hxWL"
      },
      "source": [
        "model=tf.keras.models.Sequential()\n",
        "model.add(tf.keras.layers.Reshape((784,),input_shape=(28,28)))\n",
        "#model.add(tf.keras.layers.BatchNormalization())"
      ],
      "execution_count": 20,
      "outputs": []
    },
    {
      "cell_type": "code",
      "metadata": {
        "id": "C2H3v84LjXRN"
      },
      "source": [
        "model.add(tf.keras.layers.Dense('200',activation='relu'))\n",
        "#model.add(tf.keras.layers.BatchNormalization())"
      ],
      "execution_count": 21,
      "outputs": []
    },
    {
      "cell_type": "code",
      "metadata": {
        "id": "VRjKrnQmmDQi"
      },
      "source": [
        "model.add(tf.keras.layers.Dense('100',activation='relu'))\n",
        "#model.add(tf.keras.layers.BatchNormalization())"
      ],
      "execution_count": 22,
      "outputs": []
    },
    {
      "cell_type": "code",
      "metadata": {
        "id": "c3O3ZG7PmfSE"
      },
      "source": [
        "model.add(tf.keras.layers.Dense('60',activation='relu'))\n",
        "#model.add(tf.keras.layers.BatchNormalization())"
      ],
      "execution_count": 23,
      "outputs": []
    },
    {
      "cell_type": "code",
      "metadata": {
        "id": "NPyTHzlBmg4Q"
      },
      "source": [
        "model.add(tf.keras.layers.Dense('30',activation='relu'))\n",
        "#model.add(tf.keras.layers.BatchNormalization())"
      ],
      "execution_count": 24,
      "outputs": []
    },
    {
      "cell_type": "code",
      "metadata": {
        "id": "jDndH7GrmiZ_"
      },
      "source": [
        "model.add(tf.keras.layers.Dense('10',activation='softmax'))\n",
        "#model.add(tf.keras.layers.BatchNormalization())"
      ],
      "execution_count": 25,
      "outputs": []
    },
    {
      "cell_type": "code",
      "metadata": {
        "id": "J1NEMmramzBR"
      },
      "source": [
        "adam_optimizer=tf.keras.optimizers.Adam()\n",
        "model.compile(optimizer=adam_optimizer, loss='sparse_categorical_crossentropy', metrics=['accuracy'])"
      ],
      "execution_count": 26,
      "outputs": []
    },
    {
      "cell_type": "code",
      "metadata": {
        "colab": {
          "base_uri": "https://localhost:8080/"
        },
        "id": "yQ9h9TK4noiL",
        "outputId": "b471cafd-9da0-45c6-ac69-23466a2edefe"
      },
      "source": [
        "model.fit(x_train,y_train,validation_data=(x_test,y_test),batch_size=32,epochs=15)"
      ],
      "execution_count": 29,
      "outputs": [
        {
          "output_type": "stream",
          "name": "stdout",
          "text": [
            "Epoch 1/15\n",
            "1875/1875 [==============================] - 6s 3ms/step - loss: 0.2769 - accuracy: 0.8984 - val_loss: 0.4055 - val_accuracy: 0.8694\n",
            "Epoch 2/15\n",
            "1875/1875 [==============================] - 6s 3ms/step - loss: 0.2757 - accuracy: 0.9006 - val_loss: 0.3787 - val_accuracy: 0.8785\n",
            "Epoch 3/15\n",
            "1875/1875 [==============================] - 6s 3ms/step - loss: 0.2778 - accuracy: 0.9001 - val_loss: 0.4100 - val_accuracy: 0.8686\n",
            "Epoch 4/15\n",
            "1875/1875 [==============================] - 6s 3ms/step - loss: 0.2704 - accuracy: 0.9018 - val_loss: 0.3737 - val_accuracy: 0.8807\n",
            "Epoch 5/15\n",
            "1875/1875 [==============================] - 6s 3ms/step - loss: 0.2610 - accuracy: 0.9050 - val_loss: 0.3987 - val_accuracy: 0.8715\n",
            "Epoch 6/15\n",
            "1875/1875 [==============================] - 6s 3ms/step - loss: 0.2639 - accuracy: 0.9042 - val_loss: 0.4311 - val_accuracy: 0.8666\n",
            "Epoch 7/15\n",
            "1875/1875 [==============================] - 6s 3ms/step - loss: 0.2551 - accuracy: 0.9072 - val_loss: 0.4310 - val_accuracy: 0.8674\n",
            "Epoch 8/15\n",
            "1875/1875 [==============================] - 6s 3ms/step - loss: 0.2506 - accuracy: 0.9084 - val_loss: 0.3846 - val_accuracy: 0.8751\n",
            "Epoch 9/15\n",
            "1875/1875 [==============================] - 6s 3ms/step - loss: 0.2528 - accuracy: 0.9082 - val_loss: 0.4110 - val_accuracy: 0.8704\n",
            "Epoch 10/15\n",
            "1875/1875 [==============================] - 6s 3ms/step - loss: 0.2454 - accuracy: 0.9100 - val_loss: 0.4031 - val_accuracy: 0.8724\n",
            "Epoch 11/15\n",
            "1875/1875 [==============================] - 6s 3ms/step - loss: 0.2468 - accuracy: 0.9101 - val_loss: 0.4120 - val_accuracy: 0.8749\n",
            "Epoch 12/15\n",
            "1875/1875 [==============================] - 6s 3ms/step - loss: 0.2418 - accuracy: 0.9113 - val_loss: 0.4033 - val_accuracy: 0.8776\n",
            "Epoch 13/15\n",
            "1875/1875 [==============================] - 6s 3ms/step - loss: 0.2420 - accuracy: 0.9119 - val_loss: 0.4222 - val_accuracy: 0.8705\n",
            "Epoch 14/15\n",
            "1875/1875 [==============================] - 6s 3ms/step - loss: 0.2475 - accuracy: 0.9110 - val_loss: 0.4116 - val_accuracy: 0.8744\n",
            "Epoch 15/15\n",
            "1875/1875 [==============================] - 6s 3ms/step - loss: 0.2357 - accuracy: 0.9145 - val_loss: 0.4524 - val_accuracy: 0.8742\n"
          ]
        },
        {
          "output_type": "execute_result",
          "data": {
            "text/plain": [
              "<keras.callbacks.History at 0x7fb2093da910>"
            ]
          },
          "metadata": {},
          "execution_count": 29
        }
      ]
    },
    {
      "cell_type": "code",
      "metadata": {
        "id": "fa7QIEMBoBAD"
      },
      "source": [
        ""
      ],
      "execution_count": null,
      "outputs": []
    }
  ]
}