{
  "nbformat": 4,
  "nbformat_minor": 0,
  "metadata": {
    "colab": {
      "name": "BHRUGESH_21070149007_Mnist_digit_CNN.ipynb",
      "provenance": []
    },
    "kernelspec": {
      "name": "python3",
      "display_name": "Python 3"
    },
    "language_info": {
      "name": "python"
    }
  },
  "cells": [
    {
      "cell_type": "code",
      "execution_count": 3,
      "metadata": {
        "id": "7gnvkyj25XGD"
      },
      "outputs": [],
      "source": [
        "import tensorflow as tf\n",
        "from tensorflow import keras\n",
        "import matplotlib.pyplot as plt"
      ]
    },
    {
      "cell_type": "code",
      "source": [
        "(x_train, y_train), (x_test, y_test) = keras.datasets.mnist.load_data()"
      ],
      "metadata": {
        "colab": {
          "base_uri": "https://localhost:8080/"
        },
        "id": "xCA8rgfdgVzt",
        "outputId": "70be24cf-5363-48df-89ab-0f3b1eed7986"
      },
      "execution_count": 4,
      "outputs": [
        {
          "output_type": "stream",
          "name": "stdout",
          "text": [
            "Downloading data from https://storage.googleapis.com/tensorflow/tf-keras-datasets/mnist.npz\n",
            "11493376/11490434 [==============================] - 0s 0us/step\n",
            "11501568/11490434 [==============================] - 0s 0us/step\n"
          ]
        }
      ]
    },
    {
      "cell_type": "code",
      "source": [
        "x_train.shape"
      ],
      "metadata": {
        "colab": {
          "base_uri": "https://localhost:8080/"
        },
        "id": "CpcLR4-9gZX8",
        "outputId": "8f13bff8-8d55-417d-e3fc-8fbfdea35f43"
      },
      "execution_count": 5,
      "outputs": [
        {
          "output_type": "execute_result",
          "data": {
            "text/plain": [
              "(60000, 28, 28)"
            ]
          },
          "metadata": {},
          "execution_count": 5
        }
      ]
    },
    {
      "cell_type": "code",
      "source": [
        "x_test.shape"
      ],
      "metadata": {
        "colab": {
          "base_uri": "https://localhost:8080/"
        },
        "id": "wiauaBEgglb-",
        "outputId": "32dbd5b2-ea88-482b-95a9-c81dffd53c96"
      },
      "execution_count": 8,
      "outputs": [
        {
          "output_type": "execute_result",
          "data": {
            "text/plain": [
              "(10000, 28, 28)"
            ]
          },
          "metadata": {},
          "execution_count": 8
        }
      ]
    },
    {
      "cell_type": "code",
      "source": [
        "y_train = tf.keras.utils.to_categorical(y_train, num_classes=10)\n",
        "y_test = tf.keras.utils.to_categorical(y_test, num_classes=10)"
      ],
      "metadata": {
        "id": "Kf0dLmVFgndt"
      },
      "execution_count": 9,
      "outputs": []
    },
    {
      "cell_type": "code",
      "source": [
        "model=tf.keras.Sequential()\n",
        "model.add(tf.keras.layers.Reshape((28,28,1),input_shape=(28,28,)))\n",
        "model.add(tf.keras.layers.BatchNormalization())"
      ],
      "metadata": {
        "id": "N142NO19gxUP"
      },
      "execution_count": 10,
      "outputs": []
    },
    {
      "cell_type": "code",
      "source": [
        "model.add(tf.keras.layers.Conv2D(32, \n",
        "                                 kernel_size=(3,3), \n",
        "                                 activation='relu'))\n",
        "\n",
        "model.add(tf.keras.layers.Conv2D(64, kernel_size=(3,3), activation='relu'))\n",
        "\n",
        "model.add(tf.keras.layers.MaxPool2D(pool_size=(2,2)))"
      ],
      "metadata": {
        "id": "0LOWSKZng5qe"
      },
      "execution_count": 11,
      "outputs": []
    },
    {
      "cell_type": "code",
      "source": [
        "#Flatten the output\n",
        "model.add(tf.keras.layers.Flatten())\n",
        "\n",
        "#Dense layer\n",
        "model.add(tf.keras.layers.Dense(128, activation='relu'))\n",
        "\n",
        "#Add another dropout layer\n",
        "model.add(tf.keras.layers.Dropout(0.25))\n",
        "\n",
        "#Output layer\n",
        "model.add(tf.keras.layers.Dense(10, activation='softmax'))"
      ],
      "metadata": {
        "id": "a_sGFKFSg9TL"
      },
      "execution_count": 12,
      "outputs": []
    },
    {
      "cell_type": "code",
      "source": [
        "model.compile(optimizer='adam', \n",
        "              loss='categorical_crossentropy', metrics=['accuracy'])"
      ],
      "metadata": {
        "id": "wM5Glfk6hB6K"
      },
      "execution_count": 13,
      "outputs": []
    },
    {
      "cell_type": "code",
      "source": [
        "#Train the model\n",
        "model.fit(x_train,y_train,          \n",
        "          validation_data=(x_test,y_test),\n",
        "          epochs=10,\n",
        "          batch_size=32)"
      ],
      "metadata": {
        "colab": {
          "base_uri": "https://localhost:8080/"
        },
        "id": "WyzZU74zhENU",
        "outputId": "0b24077d-d2f3-443c-8b65-4ce939c44fe0"
      },
      "execution_count": 15,
      "outputs": [
        {
          "output_type": "stream",
          "name": "stdout",
          "text": [
            "Epoch 1/10\n",
            "1875/1875 [==============================] - 149s 79ms/step - loss: 0.1231 - accuracy: 0.9613 - val_loss: 0.0386 - val_accuracy: 0.9882\n",
            "Epoch 2/10\n",
            "1875/1875 [==============================] - 147s 78ms/step - loss: 0.0453 - accuracy: 0.9865 - val_loss: 0.0378 - val_accuracy: 0.9888\n",
            "Epoch 3/10\n",
            "1875/1875 [==============================] - 146s 78ms/step - loss: 0.0318 - accuracy: 0.9902 - val_loss: 0.0422 - val_accuracy: 0.9877\n",
            "Epoch 4/10\n",
            "1875/1875 [==============================] - 146s 78ms/step - loss: 0.0214 - accuracy: 0.9932 - val_loss: 0.0315 - val_accuracy: 0.9902\n",
            "Epoch 5/10\n",
            "1875/1875 [==============================] - 146s 78ms/step - loss: 0.0169 - accuracy: 0.9944 - val_loss: 0.0434 - val_accuracy: 0.9888\n",
            "Epoch 6/10\n",
            "1875/1875 [==============================] - 147s 78ms/step - loss: 0.0141 - accuracy: 0.9953 - val_loss: 0.0327 - val_accuracy: 0.9917\n",
            "Epoch 7/10\n",
            "1875/1875 [==============================] - 146s 78ms/step - loss: 0.0115 - accuracy: 0.9963 - val_loss: 0.0341 - val_accuracy: 0.9909\n",
            "Epoch 8/10\n",
            "1875/1875 [==============================] - 145s 77ms/step - loss: 0.0103 - accuracy: 0.9968 - val_loss: 0.0295 - val_accuracy: 0.9923\n",
            "Epoch 9/10\n",
            "1875/1875 [==============================] - 145s 78ms/step - loss: 0.0084 - accuracy: 0.9971 - val_loss: 0.0332 - val_accuracy: 0.9911\n",
            "Epoch 10/10\n",
            "1875/1875 [==============================] - 147s 78ms/step - loss: 0.0066 - accuracy: 0.9979 - val_loss: 0.0381 - val_accuracy: 0.9926\n"
          ]
        },
        {
          "output_type": "execute_result",
          "data": {
            "text/plain": [
              "<keras.callbacks.History at 0x7ff12b193d50>"
            ]
          },
          "metadata": {},
          "execution_count": 15
        }
      ]
    },
    {
      "cell_type": "code",
      "source": [
        ""
      ],
      "metadata": {
        "id": "qCAQmF4fhHeq"
      },
      "execution_count": null,
      "outputs": []
    }
  ]
}